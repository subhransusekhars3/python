{
  "nbformat": 4,
  "nbformat_minor": 0,
  "metadata": {
    "colab": {
      "name": "myanalysis.ipynb",
      "provenance": [],
      "authorship_tag": "ABX9TyO2w7k+3uOr+pRtHC2s/wdW",
      "include_colab_link": true
    },
    "kernelspec": {
      "name": "python3",
      "display_name": "Python 3"
    },
    "language_info": {
      "name": "python"
    }
  },
  "cells": [
    {
      "cell_type": "markdown",
      "metadata": {
        "id": "view-in-github",
        "colab_type": "text"
      },
      "source": [
        "<a href=\"https://colab.research.google.com/github/subhransusekhars3/python/blob/main/myanalysis.ipynb\" target=\"_parent\"><img src=\"https://colab.research.google.com/assets/colab-badge.svg\" alt=\"Open In Colab\"/></a>"
      ]
    },
    {
      "cell_type": "code",
      "metadata": {
        "colab": {
          "base_uri": "https://localhost:8080/"
        },
        "id": "7t_vaXAKih6J",
        "outputId": "87e92da6-b066-4a10-e6c1-c3af18ee4224"
      },
      "source": [
        "is_active = True\n",
        "inactive = not is_active\n",
        "print(is_active)\n",
        "print(not is_active)\n",
        "print(inactive)\n",
        "print(not inactive)\n",
        "\n",
        "#str\n",
        "some_string = \"hello i am srting!\"\n",
        "print(some_string)\n",
        "\n",
        "#list\n",
        "my_number = [1, 2, 4, 3]\n",
        "print(my_number)\n",
        "print(my_number[2])\n",
        "\n",
        "#dict\n",
        "my_name = {'first_name': \"Humayun\", 'last_name': \"Kabir\"}\n",
        "print(my_name)\n",
        "print(my_name['first_name'])\n",
        "print(my_name['last_name'])"
      ],
      "execution_count": 1,
      "outputs": [
        {
          "output_type": "stream",
          "text": [
            "True\n",
            "False\n",
            "False\n",
            "True\n",
            "hello i am srting!\n",
            "[1, 2, 4, 3]\n",
            "4\n",
            "{'first_name': 'Humayun', 'last_name': 'Kabir'}\n",
            "Humayun\n",
            "Kabir\n"
          ],
          "name": "stdout"
        }
      ]
    },
    {
      "cell_type": "code",
      "metadata": {
        "colab": {
          "base_uri": "https://localhost:8080/"
        },
        "id": "dInNN6a3kyZE",
        "outputId": "bc622244-1423-42c8-fc0c-e5ed742adad8"
      },
      "source": [
        "name = \"Humayun\"\n",
        "msg = f\"Hello Mr. {name} Welcome!\"\n",
        "msg2 = \"Hello Mr. {} Welcome!\".format(name)\n",
        "print(msg)\n",
        "print(msg2)"
      ],
      "execution_count": 8,
      "outputs": [
        {
          "output_type": "stream",
          "text": [
            "Hello Mr. Humayun Welcome!\n",
            "Hello Mr. Humayun Welcome!\n"
          ],
          "name": "stdout"
        }
      ]
    },
    {
      "cell_type": "code",
      "metadata": {
        "colab": {
          "base_uri": "https://localhost:8080/"
        },
        "id": "XGVwh1Aclp7i",
        "outputId": "57d916d6-1641-4853-f284-c2b4c253e759"
      },
      "source": [
        "intx = 10\n",
        "print(type(intx))\n",
        "\n",
        "floatx = float(intx)\n",
        "print(floatx)"
      ],
      "execution_count": 9,
      "outputs": [
        {
          "output_type": "stream",
          "text": [
            "<class 'int'>\n",
            "10.0\n"
          ],
          "name": "stdout"
        }
      ]
    },
    {
      "cell_type": "code",
      "metadata": {
        "colab": {
          "base_uri": "https://localhost:8080/"
        },
        "id": "XG-NKGKcmPus",
        "outputId": "c87494ba-7fad-4f8d-e205-964edeb6c82f"
      },
      "source": [
        "print(\"How many KM did you cycle today?\")\n",
        "# by default input return string input\n",
        "kms = float(input())\n",
        "miles = kms/1.61\n",
        "# precisions\n",
        "miles = round(miles, 3)\n",
        "print(f\"Your {kms} KM is {miles} Miles\")"
      ],
      "execution_count": 10,
      "outputs": [
        {
          "output_type": "stream",
          "text": [
            "How many KM did you cycle today?\n",
            "43\n",
            "Your 43.0 KM is 26.708 Miles\n"
          ],
          "name": "stdout"
        }
      ]
    }
  ]
}