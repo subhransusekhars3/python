{
  "nbformat": 4,
  "nbformat_minor": 0,
  "metadata": {
    "colab": {
      "name": "Untitled2.ipynb",
      "provenance": [],
      "authorship_tag": "ABX9TyPNPow5nnnuHjA8cU7MvojI",
      "include_colab_link": true
    },
    "kernelspec": {
      "name": "python3",
      "display_name": "Python 3"
    },
    "language_info": {
      "name": "python"
    }
  },
  "cells": [
    {
      "cell_type": "markdown",
      "metadata": {
        "id": "view-in-github",
        "colab_type": "text"
      },
      "source": [
        "<a href=\"https://colab.research.google.com/github/subhransusekhars3/python/blob/main/Untitled2.ipynb\" target=\"_parent\"><img src=\"https://colab.research.google.com/assets/colab-badge.svg\" alt=\"Open In Colab\"/></a>"
      ]
    },
    {
      "cell_type": "code",
      "metadata": {
        "colab": {
          "base_uri": "https://localhost:8080/"
        },
        "id": "MAEftLBsYH-j",
        "outputId": "b033ed7f-915d-4f65-8ce6-307c253f287b"
      },
      "source": [
        "game_over = True\n",
        "print(game_over)\n",
        "\n",
        "game_over = \"Yes, it's over!\"\n",
        "print(game_over)\n",
        "\n",
        "game_over = 22/7\n",
        "print(game_over)\n",
        "\n",
        "#None is nothing\n",
        "game_over = None\n",
        "print(game_over)\n",
        "print(type(game_over))"
      ],
      "execution_count": 1,
      "outputs": [
        {
          "output_type": "stream",
          "text": [
            "True\n",
            "Yes, it's over!\n",
            "3.142857142857143\n",
            "None\n",
            "<class 'NoneType'>\n"
          ],
          "name": "stdout"
        }
      ]
    },
    {
      "cell_type": "code",
      "metadata": {
        "id": "UVZr4XYKYrzp"
      },
      "source": [
        ""
      ],
      "execution_count": null,
      "outputs": []
    }
  ]
}